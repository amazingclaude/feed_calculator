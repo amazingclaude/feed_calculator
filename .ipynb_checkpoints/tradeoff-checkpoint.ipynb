{
 "cells": [
  {
   "cell_type": "markdown",
   "metadata": {},
   "source": [
    "# Feed calculator"
   ]
  },
  {
   "cell_type": "code",
   "execution_count": 410,
   "metadata": {},
   "outputs": [],
   "source": [
    "import pandas as pd\n",
    "from pulp import *"
   ]
  },
  {
   "cell_type": "markdown",
   "metadata": {},
   "source": [
    "# Basic Model"
   ]
  },
  {
   "cell_type": "markdown",
   "metadata": {},
   "source": [
    "## Process the dataset"
   ]
  },
  {
   "cell_type": "code",
   "execution_count": 411,
   "metadata": {},
   "outputs": [],
   "source": [
    "pd.set_option('display.max_columns', 500) #To show all the columns when neccessary\n",
    "df = pd.read_excel(\"nutrition.xlsx\",nrows=64)"
   ]
  },
  {
   "cell_type": "code",
   "execution_count": 412,
   "metadata": {},
   "outputs": [],
   "source": [
    "df.columns = ['ingredient' if col.startswith('INGREDIENT') else col for col in df]"
   ]
  },
  {
   "cell_type": "code",
   "execution_count": 413,
   "metadata": {},
   "outputs": [],
   "source": [
    "food_items = list(df['ingredient'])"
   ]
  },
  {
   "cell_type": "code",
   "execution_count": 414,
   "metadata": {},
   "outputs": [
    {
     "name": "stdout",
     "output_type": "stream",
     "text": [
      "So, the food items to consdier, are\n",
      "----------------------------------------------------------------------------------------------------\n",
      "barley, blood, boneash, copra, cotton, fats, fish, fishlq, gnseeds, gncake, maize, maizebranhighq, maizebranlowq, mbmeal, sugars, pkcake, palmoil, rapecake, rapemeal, rice, sesamecake, sorghum, soybeanexp, soybeanhulls, soybeanmeal, soybeanheat, sunflower, sunflowerseeds, tapbran, caswhole, casfine, cascoarse, wheat, wheatbran, dicaph, monocapo, lime, shells, salt, "
     ]
    }
   ],
   "source": [
    "print(\"So, the food items to consdier, are\\n\"+\"-\"*100)\n",
    "for f in food_items:\n",
    "    print(f,end=', ')"
   ]
  },
  {
   "cell_type": "code",
   "execution_count": 415,
   "metadata": {},
   "outputs": [
    {
     "data": {
      "text/plain": [
       "(39, 73)"
      ]
     },
     "execution_count": 415,
     "metadata": {},
     "output_type": "execute_result"
    }
   ],
   "source": [
    "import numpy as np\n",
    "df.shape"
   ]
  },
  {
   "cell_type": "code",
   "execution_count": 416,
   "metadata": {},
   "outputs": [],
   "source": [
    "np.random.seed(0)\n",
    "# df['Price/kg'] = random.rand(39,1)*10\n",
    "df['Price/kg'] = np.ones(39)*10"
   ]
  },
  {
   "cell_type": "markdown",
   "metadata": {},
   "source": [
    "## Create dictionary of nutrition for all food items"
   ]
  },
  {
   "cell_type": "code",
   "execution_count": 417,
   "metadata": {},
   "outputs": [],
   "source": [
    "nutrition_df=pd.read_excel('quantity.xlsx')"
   ]
  },
  {
   "cell_type": "code",
   "execution_count": 418,
   "metadata": {},
   "outputs": [],
   "source": [
    "#Extract all the nutritions included\n",
    "nutrition=[]\n",
    "for i in range (len(nutrition_df)):\n",
    "    nutrition.append(nutrition_df.iloc[i][0])\n",
    "#Create dictionay for every single nutrition. The dictionary includes the amount contained in different ingredient.\n",
    "for i in range(len(nutrition)):\n",
    "    vars()[nutrition[i]] = dict(zip(food_items,df[nutrition[i]]))"
   ]
  },
  {
   "cell_type": "markdown",
   "metadata": {},
   "source": [
    "## Dealing with costs"
   ]
  },
  {
   "cell_type": "code",
   "execution_count": 419,
   "metadata": {},
   "outputs": [
    {
     "name": "stdout",
     "output_type": "stream",
     "text": [
      "['barley', 'blood', 'boneash', 'copra', 'cotton', 'fats', 'fish', 'fishlq', 'gnseeds', 'gncake', 'maize', 'maizebranhighq', 'maizebranlowq', 'mbmeal', 'sugars', 'pkcake', 'palmoil', 'rapecake', 'rapemeal', 'rice', 'sesamecake', 'sorghum', 'soybeanexp', 'soybeanhulls', 'soybeanmeal', 'soybeanheat', 'sunflower', 'sunflowerseeds', 'tapbran', 'caswhole', 'casfine', 'cascoarse', 'wheat', 'wheatbran', 'dicaph', 'monocapo', 'lime', 'shells', 'salt']\n"
     ]
    }
   ],
   "source": [
    "print(food_items)"
   ]
  },
  {
   "cell_type": "code",
   "execution_count": 420,
   "metadata": {},
   "outputs": [],
   "source": [
    "cost_df_raw=pd.read_excel('costs.xlsx')"
   ]
  },
  {
   "cell_type": "code",
   "execution_count": 421,
   "metadata": {},
   "outputs": [],
   "source": [
    "food_items_df=pd.DataFrame(food_items,columns=['food'])"
   ]
  },
  {
   "cell_type": "code",
   "execution_count": 422,
   "metadata": {},
   "outputs": [],
   "source": [
    "costs_df=food_items_df.merge(cost_df_raw,left_on='food',right_on='Ingredients')"
   ]
  },
  {
   "cell_type": "code",
   "execution_count": 423,
   "metadata": {},
   "outputs": [],
   "source": [
    "costs_df=costs_df.drop('food',axis=1)"
   ]
  },
  {
   "cell_type": "code",
   "execution_count": 424,
   "metadata": {},
   "outputs": [
    {
     "data": {
      "text/html": [
       "<div>\n",
       "<style scoped>\n",
       "    .dataframe tbody tr th:only-of-type {\n",
       "        vertical-align: middle;\n",
       "    }\n",
       "\n",
       "    .dataframe tbody tr th {\n",
       "        vertical-align: top;\n",
       "    }\n",
       "\n",
       "    .dataframe thead th {\n",
       "        text-align: right;\n",
       "    }\n",
       "</style>\n",
       "<table border=\"1\" class=\"dataframe\">\n",
       "  <thead>\n",
       "    <tr style=\"text-align: right;\">\n",
       "      <th></th>\n",
       "      <th>Ingredients</th>\n",
       "      <th>Price</th>\n",
       "    </tr>\n",
       "  </thead>\n",
       "  <tbody>\n",
       "    <tr>\n",
       "      <th>0</th>\n",
       "      <td>barley</td>\n",
       "      <td>105</td>\n",
       "    </tr>\n",
       "    <tr>\n",
       "      <th>1</th>\n",
       "      <td>blood</td>\n",
       "      <td>285</td>\n",
       "    </tr>\n",
       "    <tr>\n",
       "      <th>2</th>\n",
       "      <td>boneash</td>\n",
       "      <td>70</td>\n",
       "    </tr>\n",
       "    <tr>\n",
       "      <th>3</th>\n",
       "      <td>copra</td>\n",
       "      <td>65</td>\n",
       "    </tr>\n",
       "    <tr>\n",
       "      <th>4</th>\n",
       "      <td>cotton</td>\n",
       "      <td>80</td>\n",
       "    </tr>\n",
       "  </tbody>\n",
       "</table>\n",
       "</div>"
      ],
      "text/plain": [
       "  Ingredients  Price\n",
       "0      barley    105\n",
       "1       blood    285\n",
       "2     boneash     70\n",
       "3       copra     65\n",
       "4      cotton     80"
      ]
     },
     "execution_count": 424,
     "metadata": {},
     "output_type": "execute_result"
    }
   ],
   "source": [
    "costs_df.head()"
   ]
  },
  {
   "cell_type": "code",
   "execution_count": 425,
   "metadata": {},
   "outputs": [],
   "source": [
    "costs={}\n",
    "for i in range (len(costs_df)):\n",
    "    costs[costs_df['Ingredients'].iloc[i]]=costs_df['Price'].iloc[i]"
   ]
  },
  {
   "cell_type": "code",
   "execution_count": 426,
   "metadata": {},
   "outputs": [
    {
     "name": "stdout",
     "output_type": "stream",
     "text": [
      "{'barley': 105, 'blood': 285, 'boneash': 70, 'copra': 65, 'cotton': 80, 'fats': 600, 'fish': 250, 'fishlq': 220, 'gnseeds': 235, 'gncake': 200, 'maize': 130, 'maizebranhighq': 75, 'maizebranlowq': 60, 'mbmeal': 135, 'sugars': 85, 'pkcake': 50, 'palmoil': 600, 'rapecake': 125, 'rapemeal': 87, 'rice': 45, 'sesamecake': 97, 'sorghum': 150, 'soybeanexp': 150, 'soybeanhulls': 30, 'soybeanmeal': 150, 'soybeanheat': 250, 'sunflower': 81, 'sunflowerseeds': 195, 'tapbran': 90, 'caswhole': 60, 'casfine': 70, 'cascoarse': 65, 'wheat': 110, 'wheatbran': 70, 'dicaph': 350, 'monocapo': 375, 'lime': 20, 'shells': 45, 'salt': 100}\n"
     ]
    },
    {
     "data": {
      "text/plain": [
       "39"
      ]
     },
     "execution_count": 426,
     "metadata": {},
     "output_type": "execute_result"
    }
   ],
   "source": [
    "print(costs)\n",
    "len(costs)"
   ]
  },
  {
   "cell_type": "markdown",
   "metadata": {},
   "source": [
    "# Extension 1-1"
   ]
  },
  {
   "cell_type": "markdown",
   "metadata": {},
   "source": [
    "Question: At most MaxNum of ingredients to use. "
   ]
  },
  {
   "cell_type": "code",
   "execution_count": 427,
   "metadata": {},
   "outputs": [],
   "source": [
    "def cost_calculation(MaxNum,food_items,nutrition_df):\n",
    "    #Extract all the nutritions included\n",
    "    nutrition=[]\n",
    "    for i in range (len(nutrition_df)):\n",
    "        nutrition.append(nutrition_df.iloc[i][0])\n",
    "    #Create dictionay for every single nutrition. The dictionary includes the amount contained in different ingredient.\n",
    "    for i in range(len(nutrition)):\n",
    "        vars()[nutrition[i]] = dict(zip(food_items,df[nutrition[i]]))\n",
    "    \n",
    "    food_vars = LpVariable.dicts(\"Portion\",food_items,lowBound=0,cat='Continuous')\n",
    "    \n",
    "    food_chosen = LpVariable.dicts(\"Chosen\",food_items,0,1,cat='Integer')\n",
    "    \n",
    "    prob2 = LpProblem(\"Smallholder Layer Starter Diet\",LpMinimize)\n",
    "\n",
    "    # The objective function is added to 'prob' first\n",
    "    prob2 += lpSum([costs[i]*food_vars[i] for i in food_items]), \"Total Cost of the balanced diet\"\n",
    "\n",
    "    for i in range(len(nutrition_df)):\n",
    "        n = vars()[nutrition_df.iloc[i,0]]\n",
    "        prob2 += lpSum([n[f]* food_vars[f] for f in food_items]) >= nutrition_df['Minimum'][i]\n",
    "        if (i in nutrition_df[nutrition_df['Maximum']>0].index):\n",
    "            prob2 += lpSum([n[f]* food_vars[f] for f in food_items]) <= nutrition_df['Maximum'][i]\n",
    "\n",
    "    for f in food_items:\n",
    "        prob2 += food_vars[f]>= 0\n",
    "\n",
    "        prob2 += food_vars[f]<= food_chosen[f]*1e5\n",
    "    prob2+= lpSum([food_chosen[f] for f in food_items])<=MaxNum\n",
    "    # The problem is solved using PuLP's choice of Solver\n",
    "    prob2.solve(pulp.PULP_CBC_CMD())\n",
    "\n",
    "    return round(value(prob2.objective),2)"
   ]
  },
  {
   "cell_type": "code",
   "execution_count": 428,
   "metadata": {},
   "outputs": [],
   "source": [
    "cost_vec=[]\n",
    "MaxNumVec=[]\n",
    "for MaxNum in range (3,12):\n",
    "    cost=cost_calculation(MaxNum,food_items,nutrition_df)\n",
    "    MaxNumVec.append(MaxNum)\n",
    "    cost_vec.append(cost)"
   ]
  },
  {
   "cell_type": "code",
   "execution_count": 431,
   "metadata": {},
   "outputs": [
    {
     "data": {
      "image/png": "[encoded data removed]",
      "text/plain": [
       "<Figure size 432x288 with 1 Axes>"
      ]
     },
     "metadata": {
      "needs_background": "light"
     },
     "output_type": "display_data"
    }
   ],
   "source": [
    "import matplotlib.pyplot as plt\n",
    "plt.plot(MaxNumVec,cost_vec)\n",
    "plt.ylabel('Optimized Minimum cost')\n",
    "plt.xlabel('Maxmum number of ingredients chosen')\n",
    "plt.show()"
   ]
  },
  {
   "cell_type": "code",
   "execution_count": 430,
   "metadata": {},
   "outputs": [
    {
     "data": {
      "text/plain": [
       "[122.11, 97.23, 95.25, 81.74, 80.2, 79.97, 79.8, 79.8, 79.8]"
      ]
     },
     "execution_count": 430,
     "metadata": {},
     "output_type": "execute_result"
    }
   ],
   "source": [
    "cost_vec"
   ]
  },
  {
   "cell_type": "code",
   "execution_count": null,
   "metadata": {},
   "outputs": [],
   "source": []
  }
 ],
 "metadata": {
  "kernelspec": {
   "display_name": "Python 3",
   "language": "python",
   "name": "python3"
  },
  "language_info": {
   "codemirror_mode": {
    "name": "ipython",
    "version": 3
   },
   "file_extension": ".py",
   "mimetype": "text/x-python",
   "name": "python",
   "nbconvert_exporter": "python",
   "pygments_lexer": "ipython3",
   "version": "3.7.1"
  },
  "toc": {
   "base_numbering": 1,
   "nav_menu": {},
   "number_sections": true,
   "sideBar": true,
   "skip_h1_title": false,
   "title_cell": "Table of Contents",
   "title_sidebar": "Contents",
   "toc_cell": false,
   "toc_position": {},
   "toc_section_display": true,
   "toc_window_display": false
  }
 },
 "nbformat": 4,
 "nbformat_minor": 2
}
