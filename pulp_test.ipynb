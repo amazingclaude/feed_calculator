{
 "cells": [
  {
   "cell_type": "markdown",
   "metadata": {},
   "source": [
    "# Feed calculator"
   ]
  },
  {
   "cell_type": "code",
   "execution_count": 1721,
   "metadata": {},
   "outputs": [],
   "source": [
    "import pandas as pd\n",
    "from pulp import *"
   ]
  },
  {
   "cell_type": "markdown",
   "metadata": {},
   "source": [
    "# Basic Model"
   ]
  },
  {
   "cell_type": "markdown",
   "metadata": {},
   "source": [
    "## Process the dataset"
   ]
  },
  {
   "cell_type": "code",
   "execution_count": 1722,
   "metadata": {},
   "outputs": [],
   "source": [
    "pd.set_option('display.max_columns', 500) #To show all the columns when neccessary\n",
    "df = pd.read_excel(\"nutrition.xlsx\",nrows=64)"
   ]
  },
  {
   "cell_type": "code",
   "execution_count": 1723,
   "metadata": {},
   "outputs": [],
   "source": [
    "df.columns = ['ingredient' if col.startswith('INGREDIENT') else col for col in df]"
   ]
  },
  {
   "cell_type": "code",
   "execution_count": 1724,
   "metadata": {},
   "outputs": [],
   "source": [
    "food_items = list(df['ingredient'])"
   ]
  },
  {
   "cell_type": "code",
   "execution_count": 1725,
   "metadata": {},
   "outputs": [
    {
     "name": "stdout",
     "output_type": "stream",
     "text": [
      "So, the food items to consdier, are\n",
      "----------------------------------------------------------------------------------------------------\n",
      "barley, blood, boneash, copra, cotton, fats, fish, fishlq, gnseeds, gncake, maize, maizebranhighq, maizebranlowq, mbmeal, sugars, pkcake, palmoil, rapecake, rapemeal, rice, sesamecake, sorghum, soybeanexp, soybeanhulls, soybeanmeal, soybeanheat, sunflower, sunflowerseeds, tapbran, caswhole, casfine, cascoarse, wheat, wheatbran, dicaph, monocapo, lime, shells, salt, "
     ]
    }
   ],
   "source": [
    "print(\"So, the food items to consdier, are\\n\"+\"-\"*100)\n",
    "for f in food_items:\n",
    "    print(f,end=', ')"
   ]
  },
  {
   "cell_type": "code",
   "execution_count": 1726,
   "metadata": {},
   "outputs": [
    {
     "data": {
      "text/plain": [
       "(39, 73)"
      ]
     },
     "execution_count": 1726,
     "metadata": {},
     "output_type": "execute_result"
    }
   ],
   "source": [
    "import numpy as np\n",
    "df.shape"
   ]
  },
  {
   "cell_type": "code",
   "execution_count": 1727,
   "metadata": {},
   "outputs": [],
   "source": [
    "np.random.seed(0)\n",
    "# df['Price/kg'] = random.rand(39,1)*10\n",
    "df['Price/kg'] = np.ones(39)*10"
   ]
  },
  {
   "cell_type": "markdown",
   "metadata": {},
   "source": [
    "## Create dictionary of nutrition for all food items"
   ]
  },
  {
   "cell_type": "code",
   "execution_count": 1728,
   "metadata": {},
   "outputs": [],
   "source": [
    "#From here, write the interface of what nutrition dataframe to choose.\n",
    "#And the format of the data frame should include [Name]\n",
    "#nutrition_df=???"
   ]
  },
  {
   "cell_type": "code",
   "execution_count": 1729,
   "metadata": {},
   "outputs": [],
   "source": [
    "nutrition_df=pd.read_excel('quantity.xlsx')"
   ]
  },
  {
   "cell_type": "code",
   "execution_count": 1730,
   "metadata": {},
   "outputs": [
    {
     "data": {
      "text/html": [
       "<div>\n",
       "<style scoped>\n",
       "    .dataframe tbody tr th:only-of-type {\n",
       "        vertical-align: middle;\n",
       "    }\n",
       "\n",
       "    .dataframe tbody tr th {\n",
       "        vertical-align: top;\n",
       "    }\n",
       "\n",
       "    .dataframe thead th {\n",
       "        text-align: right;\n",
       "    }\n",
       "</style>\n",
       "<table border=\"1\" class=\"dataframe\">\n",
       "  <thead>\n",
       "    <tr style=\"text-align: right;\">\n",
       "      <th></th>\n",
       "      <th>Afkorting in WEBCALCULATOR</th>\n",
       "      <th>unit</th>\n",
       "      <th>Minimum</th>\n",
       "      <th>Maximum</th>\n",
       "      <th>Rule in webapp</th>\n",
       "    </tr>\n",
       "  </thead>\n",
       "  <tbody>\n",
       "    <tr>\n",
       "      <th>0</th>\n",
       "      <td>oebr</td>\n",
       "      <td>kcal</td>\n",
       "      <td>2650.0</td>\n",
       "      <td>2700.0</td>\n",
       "      <td>oebr btw 2650 and 2700</td>\n",
       "    </tr>\n",
       "    <tr>\n",
       "      <th>1</th>\n",
       "      <td>oelh</td>\n",
       "      <td>kcal</td>\n",
       "      <td>0.0</td>\n",
       "      <td>NaN</td>\n",
       "      <td>oelh gt 0</td>\n",
       "    </tr>\n",
       "    <tr>\n",
       "      <th>2</th>\n",
       "      <td>cp</td>\n",
       "      <td>g/kg</td>\n",
       "      <td>152.0</td>\n",
       "      <td>200.0</td>\n",
       "      <td>cp btw 152 and 200</td>\n",
       "    </tr>\n",
       "    <tr>\n",
       "      <th>3</th>\n",
       "      <td>cfat</td>\n",
       "      <td>g/kg</td>\n",
       "      <td>0.0</td>\n",
       "      <td>NaN</td>\n",
       "      <td>cfat gt 0</td>\n",
       "    </tr>\n",
       "    <tr>\n",
       "      <th>4</th>\n",
       "      <td>cfibre</td>\n",
       "      <td>g/kg</td>\n",
       "      <td>0.0</td>\n",
       "      <td>65.0</td>\n",
       "      <td>cfibre btw 0 and 65</td>\n",
       "    </tr>\n",
       "    <tr>\n",
       "      <th>5</th>\n",
       "      <td>staew</td>\n",
       "      <td>g/kg</td>\n",
       "      <td>310.0</td>\n",
       "      <td>NaN</td>\n",
       "      <td>staew gt 310</td>\n",
       "    </tr>\n",
       "    <tr>\n",
       "      <th>6</th>\n",
       "      <td>ca</td>\n",
       "      <td>g/kg</td>\n",
       "      <td>7.9</td>\n",
       "      <td>8.9</td>\n",
       "      <td>ca btw 7.9 and 8.9</td>\n",
       "    </tr>\n",
       "    <tr>\n",
       "      <th>7</th>\n",
       "      <td>na</td>\n",
       "      <td>g/kg</td>\n",
       "      <td>1.4</td>\n",
       "      <td>1.7</td>\n",
       "      <td>na btw 1.4 and 1.7</td>\n",
       "    </tr>\n",
       "    <tr>\n",
       "      <th>8</th>\n",
       "      <td>opp</td>\n",
       "      <td>g/kg</td>\n",
       "      <td>3.8</td>\n",
       "      <td>NaN</td>\n",
       "      <td>opp gt 3.8</td>\n",
       "    </tr>\n",
       "    <tr>\n",
       "      <th>9</th>\n",
       "      <td>dlysp</td>\n",
       "      <td>g/kg</td>\n",
       "      <td>8.2</td>\n",
       "      <td>9.1</td>\n",
       "      <td>dlysp btw 8.2 and 9.1</td>\n",
       "    </tr>\n",
       "    <tr>\n",
       "      <th>10</th>\n",
       "      <td>dmetp</td>\n",
       "      <td>g/kg</td>\n",
       "      <td>3.4</td>\n",
       "      <td>NaN</td>\n",
       "      <td>dmetp gt 3.4</td>\n",
       "    </tr>\n",
       "    <tr>\n",
       "      <th>11</th>\n",
       "      <td>dmcp</td>\n",
       "      <td>g/kg</td>\n",
       "      <td>6.3</td>\n",
       "      <td>7.3</td>\n",
       "      <td>dmcp btw 6.3 and 7.3</td>\n",
       "    </tr>\n",
       "    <tr>\n",
       "      <th>12</th>\n",
       "      <td>dthrp</td>\n",
       "      <td>g/kg</td>\n",
       "      <td>5.5</td>\n",
       "      <td>NaN</td>\n",
       "      <td>dthrp gt 5.5</td>\n",
       "    </tr>\n",
       "    <tr>\n",
       "      <th>13</th>\n",
       "      <td>dtryp</td>\n",
       "      <td>g/kg</td>\n",
       "      <td>1.5</td>\n",
       "      <td>NaN</td>\n",
       "      <td>dtryp gt 1.5</td>\n",
       "    </tr>\n",
       "    <tr>\n",
       "      <th>14</th>\n",
       "      <td>dvalp</td>\n",
       "      <td>g/kg</td>\n",
       "      <td>6.7</td>\n",
       "      <td>NaN</td>\n",
       "      <td>dvalp gt 6.7</td>\n",
       "    </tr>\n",
       "    <tr>\n",
       "      <th>15</th>\n",
       "      <td>dargp</td>\n",
       "      <td>g/kg</td>\n",
       "      <td>8.6</td>\n",
       "      <td>NaN</td>\n",
       "      <td>dargp gt 8.6</td>\n",
       "    </tr>\n",
       "  </tbody>\n",
       "</table>\n",
       "</div>"
      ],
      "text/plain": [
       "   Afkorting in WEBCALCULATOR  unit  Minimum  Maximum          Rule in webapp\n",
       "0                        oebr  kcal   2650.0   2700.0  oebr btw 2650 and 2700\n",
       "1                        oelh  kcal      0.0      NaN               oelh gt 0\n",
       "2                          cp  g/kg    152.0    200.0      cp btw 152 and 200\n",
       "3                        cfat  g/kg      0.0      NaN               cfat gt 0\n",
       "4                      cfibre  g/kg      0.0     65.0     cfibre btw 0 and 65\n",
       "5                       staew  g/kg    310.0      NaN            staew gt 310\n",
       "6                          ca  g/kg      7.9      8.9      ca btw 7.9 and 8.9\n",
       "7                          na  g/kg      1.4      1.7      na btw 1.4 and 1.7\n",
       "8                         opp  g/kg      3.8      NaN              opp gt 3.8\n",
       "9                       dlysp  g/kg      8.2      9.1   dlysp btw 8.2 and 9.1\n",
       "10                      dmetp  g/kg      3.4      NaN            dmetp gt 3.4\n",
       "11                       dmcp  g/kg      6.3      7.3    dmcp btw 6.3 and 7.3\n",
       "12                      dthrp  g/kg      5.5      NaN            dthrp gt 5.5\n",
       "13                      dtryp  g/kg      1.5      NaN            dtryp gt 1.5\n",
       "14                      dvalp  g/kg      6.7      NaN            dvalp gt 6.7\n",
       "15                      dargp  g/kg      8.6      NaN            dargp gt 8.6"
      ]
     },
     "execution_count": 1730,
     "metadata": {},
     "output_type": "execute_result"
    }
   ],
   "source": [
    "nutrition_df"
   ]
  },
  {
   "cell_type": "code",
   "execution_count": 1731,
   "metadata": {},
   "outputs": [],
   "source": [
    "#Extract all the nutritions included\n",
    "nutrition=[]\n",
    "for i in range (len(nutrition_df)):\n",
    "    nutrition.append(nutrition_df.iloc[i][0])"
   ]
  },
  {
   "cell_type": "code",
   "execution_count": 1732,
   "metadata": {},
   "outputs": [],
   "source": [
    "#Create dictionay for every single nutrition. The dictionary includes the amount contained in different ingredient.\n",
    "for i in range(len(nutrition)):\n",
    "    vars()[nutrition[i]] = dict(zip(food_items,df[nutrition[i]]))"
   ]
  },
  {
   "cell_type": "code",
   "execution_count": 1733,
   "metadata": {},
   "outputs": [],
   "source": [
    "food_vars = LpVariable.dicts(\"Portion\",food_items,lowBound=0,cat='Continuous')"
   ]
  },
  {
   "cell_type": "markdown",
   "metadata": {},
   "source": [
    "## Dealing with costs"
   ]
  },
  {
   "cell_type": "code",
   "execution_count": 1734,
   "metadata": {},
   "outputs": [
    {
     "name": "stdout",
     "output_type": "stream",
     "text": [
      "['barley', 'blood', 'boneash', 'copra', 'cotton', 'fats', 'fish', 'fishlq', 'gnseeds', 'gncake', 'maize', 'maizebranhighq', 'maizebranlowq', 'mbmeal', 'sugars', 'pkcake', 'palmoil', 'rapecake', 'rapemeal', 'rice', 'sesamecake', 'sorghum', 'soybeanexp', 'soybeanhulls', 'soybeanmeal', 'soybeanheat', 'sunflower', 'sunflowerseeds', 'tapbran', 'caswhole', 'casfine', 'cascoarse', 'wheat', 'wheatbran', 'dicaph', 'monocapo', 'lime', 'shells', 'salt']\n"
     ]
    }
   ],
   "source": [
    "print(food_items)"
   ]
  },
  {
   "cell_type": "code",
   "execution_count": 1735,
   "metadata": {},
   "outputs": [],
   "source": [
    "cost_df_raw=pd.read_excel('costs.xlsx')"
   ]
  },
  {
   "cell_type": "code",
   "execution_count": 1736,
   "metadata": {},
   "outputs": [],
   "source": [
    "food_items_df=pd.DataFrame(food_items,columns=['food'])"
   ]
  },
  {
   "cell_type": "code",
   "execution_count": 1737,
   "metadata": {},
   "outputs": [],
   "source": [
    "costs_df=food_items_df.merge(cost_df_raw,left_on='food',right_on='Ingredients')"
   ]
  },
  {
   "cell_type": "code",
   "execution_count": 1738,
   "metadata": {},
   "outputs": [],
   "source": [
    "costs_df=costs_df.drop('food',axis=1)"
   ]
  },
  {
   "cell_type": "code",
   "execution_count": 1739,
   "metadata": {},
   "outputs": [
    {
     "data": {
      "text/html": [
       "<div>\n",
       "<style scoped>\n",
       "    .dataframe tbody tr th:only-of-type {\n",
       "        vertical-align: middle;\n",
       "    }\n",
       "\n",
       "    .dataframe tbody tr th {\n",
       "        vertical-align: top;\n",
       "    }\n",
       "\n",
       "    .dataframe thead th {\n",
       "        text-align: right;\n",
       "    }\n",
       "</style>\n",
       "<table border=\"1\" class=\"dataframe\">\n",
       "  <thead>\n",
       "    <tr style=\"text-align: right;\">\n",
       "      <th></th>\n",
       "      <th>Ingredients</th>\n",
       "      <th>Price</th>\n",
       "    </tr>\n",
       "  </thead>\n",
       "  <tbody>\n",
       "    <tr>\n",
       "      <th>0</th>\n",
       "      <td>barley</td>\n",
       "      <td>105</td>\n",
       "    </tr>\n",
       "    <tr>\n",
       "      <th>1</th>\n",
       "      <td>blood</td>\n",
       "      <td>285</td>\n",
       "    </tr>\n",
       "    <tr>\n",
       "      <th>2</th>\n",
       "      <td>boneash</td>\n",
       "      <td>70</td>\n",
       "    </tr>\n",
       "    <tr>\n",
       "      <th>3</th>\n",
       "      <td>copra</td>\n",
       "      <td>65</td>\n",
       "    </tr>\n",
       "    <tr>\n",
       "      <th>4</th>\n",
       "      <td>cotton</td>\n",
       "      <td>80</td>\n",
       "    </tr>\n",
       "  </tbody>\n",
       "</table>\n",
       "</div>"
      ],
      "text/plain": [
       "  Ingredients  Price\n",
       "0      barley    105\n",
       "1       blood    285\n",
       "2     boneash     70\n",
       "3       copra     65\n",
       "4      cotton     80"
      ]
     },
     "execution_count": 1739,
     "metadata": {},
     "output_type": "execute_result"
    }
   ],
   "source": [
    "costs_df.head()"
   ]
  },
  {
   "cell_type": "code",
   "execution_count": 1740,
   "metadata": {},
   "outputs": [],
   "source": [
    "costs={}\n",
    "for i in range (len(costs_df)):\n",
    "    costs[costs_df['Ingredients'].iloc[i]]=costs_df['Price'].iloc[i]"
   ]
  },
  {
   "cell_type": "code",
   "execution_count": 1741,
   "metadata": {},
   "outputs": [
    {
     "name": "stdout",
     "output_type": "stream",
     "text": [
      "{'barley': 105, 'blood': 285, 'boneash': 70, 'copra': 65, 'cotton': 80, 'fats': 600, 'fish': 250, 'fishlq': 220, 'gnseeds': 235, 'gncake': 200, 'maize': 130, 'maizebranhighq': 75, 'maizebranlowq': 60, 'mbmeal': 135, 'sugars': 85, 'pkcake': 50, 'palmoil': 600, 'rapecake': 125, 'rapemeal': 87, 'rice': 45, 'sesamecake': 97, 'sorghum': 150, 'soybeanexp': 150, 'soybeanhulls': 30, 'soybeanmeal': 150, 'soybeanheat': 250, 'sunflower': 81, 'sunflowerseeds': 195, 'tapbran': 90, 'caswhole': 60, 'casfine': 70, 'cascoarse': 65, 'wheat': 110, 'wheatbran': 70, 'dicaph': 350, 'monocapo': 375, 'lime': 20, 'shells': 45, 'salt': 100}\n"
     ]
    },
    {
     "data": {
      "text/plain": [
       "39"
      ]
     },
     "execution_count": 1741,
     "metadata": {},
     "output_type": "execute_result"
    }
   ],
   "source": [
    "print(costs)\n",
    "len(costs)"
   ]
  },
  {
   "cell_type": "markdown",
   "metadata": {},
   "source": [
    "## Add the objective function"
   ]
  },
  {
   "cell_type": "code",
   "execution_count": 1742,
   "metadata": {},
   "outputs": [],
   "source": [
    "prob = LpProblem(\"Smallholder Layer Starter Diet\",LpMinimize)"
   ]
  },
  {
   "cell_type": "code",
   "execution_count": 1743,
   "metadata": {},
   "outputs": [],
   "source": [
    "# The objective function is added to 'prob' first\n",
    "prob += lpSum([costs[i]*food_vars[i] for i in food_items]), \"Total Cost of the balanced diet\""
   ]
  },
  {
   "cell_type": "markdown",
   "metadata": {},
   "source": [
    "## Adding constraints"
   ]
  },
  {
   "cell_type": "code",
   "execution_count": 1744,
   "metadata": {},
   "outputs": [
    {
     "name": "stdout",
     "output_type": "stream",
     "text": [
      "Min 0\n",
      "Max 0\n",
      "------\n",
      "Min 1\n",
      "------\n",
      "Min 2\n",
      "Max 2\n",
      "------\n",
      "Min 3\n",
      "------\n",
      "Min 4\n",
      "Max 4\n",
      "------\n",
      "Min 5\n",
      "------\n",
      "Min 6\n",
      "Max 6\n",
      "------\n",
      "Min 7\n",
      "Max 7\n",
      "------\n",
      "Min 8\n",
      "------\n",
      "Min 9\n",
      "Max 9\n",
      "------\n",
      "Min 10\n",
      "------\n",
      "Min 11\n",
      "Max 11\n",
      "------\n",
      "Min 12\n",
      "------\n",
      "Min 13\n",
      "------\n",
      "Min 14\n",
      "------\n",
      "Min 15\n",
      "------\n"
     ]
    }
   ],
   "source": [
    "for i in range(len(nutrition_df)):\n",
    "    n = vars()[nutrition_df.iloc[i,0]]\n",
    "    print('Min',i)\n",
    "    \n",
    "    prob += lpSum([n[f]* food_vars[f] for f in food_items]) >= nutrition_df['Minimum'][i]\n",
    "    if (i in nutrition_df[nutrition_df['Maximum']>0].index):\n",
    "        print('Max',i)\n",
    "        prob += lpSum([n[f]* food_vars[f] for f in food_items]) <= nutrition_df['Maximum'][i]\n",
    "    print('------')"
   ]
  },
  {
   "cell_type": "code",
   "execution_count": 1745,
   "metadata": {},
   "outputs": [
    {
     "name": "stdout",
     "output_type": "stream",
     "text": [
      "{'barley': 105, 'blood': 285, 'boneash': 70, 'copra': 65, 'cotton': 80, 'fats': 600, 'fish': 250, 'fishlq': 220, 'gnseeds': 235, 'gncake': 200, 'maize': 130, 'maizebranhighq': 75, 'maizebranlowq': 60, 'mbmeal': 135, 'sugars': 85, 'pkcake': 50, 'palmoil': 600, 'rapecake': 125, 'rapemeal': 87, 'rice': 45, 'sesamecake': 97, 'sorghum': 150, 'soybeanexp': 150, 'soybeanhulls': 30, 'soybeanmeal': 150, 'soybeanheat': 250, 'sunflower': 81, 'sunflowerseeds': 195, 'tapbran': 90, 'caswhole': 60, 'casfine': 70, 'cascoarse': 65, 'wheat': 110, 'wheatbran': 70, 'dicaph': 350, 'monocapo': 375, 'lime': 20, 'shells': 45, 'salt': 100}\n"
     ]
    },
    {
     "data": {
      "text/plain": [
       "39"
      ]
     },
     "execution_count": 1745,
     "metadata": {},
     "output_type": "execute_result"
    }
   ],
   "source": [
    "print(costs)\n",
    "len(costs)"
   ]
  },
  {
   "cell_type": "code",
   "execution_count": 1746,
   "metadata": {},
   "outputs": [
    {
     "data": {
      "text/plain": [
       "1"
      ]
     },
     "execution_count": 1746,
     "metadata": {},
     "output_type": "execute_result"
    }
   ],
   "source": [
    "# The problem data is written to an .lp file\n",
    "prob.writeLP(\"SimpleDietProblem.lp\")\n",
    "# The problem is solved using PuLP's choice of Solver\n",
    "prob.solve(pulp.PULP_CBC_CMD())"
   ]
  },
  {
   "cell_type": "code",
   "execution_count": 1747,
   "metadata": {},
   "outputs": [
    {
     "name": "stdout",
     "output_type": "stream",
     "text": [
      "Solution----------------------------------------------------------------------------------------------------\n",
      "Portion_boneash = 0.0018651074 kg\n",
      "Portion_caswhole = 0.073674343 kg\n",
      "Portion_fish = 0.070430241 kg\n",
      "Portion_maizebranhighq = 0.13354586 kg\n",
      "Portion_monocapo = 0.00083770807 kg\n",
      "Portion_rapemeal = 0.20423689 kg\n",
      "Portion_rice = 0.48865891 kg\n",
      "Portion_salt = 0.0012428947 kg\n",
      "Portion_wheat = 0.067520956 kg\n"
     ]
    }
   ],
   "source": [
    "print(\"Solution\"+\"-\"*100)\n",
    "for v in prob.variables():\n",
    "    if v.varValue>0 and v.name[0]=='P':\n",
    "        print(v.name, \"=\", v.varValue,'kg')"
   ]
  },
  {
   "cell_type": "code",
   "execution_count": 1748,
   "metadata": {},
   "outputs": [
    {
     "name": "stdout",
     "output_type": "stream",
     "text": [
      "The total cost of this balanced diet is: 79.8 in Nigeria Currency \n"
     ]
    }
   ],
   "source": [
    "print(\"The total cost of this balanced diet is: {} in Nigeria Currency \".format(round(value(prob.objective),2)))"
   ]
  },
  {
   "cell_type": "markdown",
   "metadata": {},
   "source": [
    "# Extension 1-1"
   ]
  },
  {
   "cell_type": "code",
   "execution_count": 1749,
   "metadata": {},
   "outputs": [],
   "source": [
    "#Interface for selecting the Number of ingredients\n",
    "MaxNum=3"
   ]
  },
  {
   "cell_type": "code",
   "execution_count": 1750,
   "metadata": {},
   "outputs": [
    {
     "name": "stdout",
     "output_type": "stream",
     "text": [
      "Min 0\n",
      "Max 0\n",
      "------\n",
      "Min 1\n",
      "------\n",
      "Min 2\n",
      "Max 2\n",
      "------\n",
      "Min 3\n",
      "------\n",
      "Min 4\n",
      "Max 4\n",
      "------\n",
      "Min 5\n",
      "------\n",
      "Min 6\n",
      "Max 6\n",
      "------\n",
      "Min 7\n",
      "Max 7\n",
      "------\n",
      "Min 8\n",
      "------\n",
      "Min 9\n",
      "Max 9\n",
      "------\n",
      "Min 10\n",
      "------\n",
      "Min 11\n",
      "Max 11\n",
      "------\n",
      "Min 12\n",
      "------\n",
      "Min 13\n",
      "------\n",
      "Min 14\n",
      "------\n",
      "Min 15\n",
      "------\n",
      "Solution----------------------------------------------------------------------------------------------------\n",
      "Portion_fish = 0.13110074 kg\n",
      "Portion_wheat = 0.53863388 kg\n",
      "Portion_wheatbran = 0.42978379 kg\n",
      "The total cost of this balanced diet is: 122.11 in Nigeria Currency \n"
     ]
    }
   ],
   "source": [
    "\n",
    "prob2 = LpProblem(\"Smallholder Layer Starter Diet\",LpMinimize)\n",
    "\n",
    "food_chosen = LpVariable.dicts(\"Chosen\",food_items,0,1,cat='Integer')\n",
    "\n",
    "# The objective function is added to 'prob' first\n",
    "prob2 += lpSum([costs[i]*food_vars[i] for i in food_items]), \"Total Cost of the balanced diet\"\n",
    "\n",
    "for i in range(len(nutrition_df)):\n",
    "    n = vars()[nutrition_df.iloc[i,0]]\n",
    "#     print(n)\n",
    "    print('Min',i)\n",
    "\n",
    "    prob2 += lpSum([n[f]* food_vars[f] for f in food_items]) >= nutrition_df['Minimum'][i]\n",
    "    if (i in nutrition_df[nutrition_df['Maximum']>0].index):\n",
    "        print('Max',i)\n",
    "        prob2 += lpSum([n[f]* food_vars[f] for f in food_items]) <= nutrition_df['Maximum'][i]\n",
    "    print('------')\n",
    "\n",
    "for f in food_items:\n",
    "#     prob2 += food_vars[f]>= food_chosen[f]*0.1\n",
    "    prob2 += food_vars[f]>= 0\n",
    "\n",
    "    prob2 += food_vars[f]<= food_chosen[f]*1e5\n",
    "prob2+= lpSum([food_chosen[f] for f in food_items])<=MaxNum\n",
    "# The problem is solved using PuLP's choice of Solver\n",
    "prob2.solve(pulp.PULP_CBC_CMD())\n",
    "\n",
    "    \n",
    "print(\"Solution\"+\"-\"*100)\n",
    "for v in prob2.variables():\n",
    "    if v.varValue>0 and v.name[0]=='P':\n",
    "        print(v.name, \"=\", v.varValue,'kg')\n",
    "print(\"The total cost of this balanced diet is: {} in Nigeria Currency \".format(round(value(prob2.objective),2)))"
   ]
  },
  {
   "cell_type": "markdown",
   "metadata": {},
   "source": [
    "# Extension 1-0"
   ]
  },
  {
   "cell_type": "code",
   "execution_count": 1751,
   "metadata": {},
   "outputs": [],
   "source": [
    "#Interface "
   ]
  },
  {
   "cell_type": "code",
   "execution_count": 1752,
   "metadata": {},
   "outputs": [],
   "source": [
    "ingre_percentage_df=pd.read_excel('ingredients_percentage.xlsx')"
   ]
  },
  {
   "cell_type": "code",
   "execution_count": 1753,
   "metadata": {},
   "outputs": [
    {
     "data": {
      "text/html": [
       "<div>\n",
       "<style scoped>\n",
       "    .dataframe tbody tr th:only-of-type {\n",
       "        vertical-align: middle;\n",
       "    }\n",
       "\n",
       "    .dataframe tbody tr th {\n",
       "        vertical-align: top;\n",
       "    }\n",
       "\n",
       "    .dataframe thead th {\n",
       "        text-align: right;\n",
       "    }\n",
       "</style>\n",
       "<table border=\"1\" class=\"dataframe\">\n",
       "  <thead>\n",
       "    <tr style=\"text-align: right;\">\n",
       "      <th></th>\n",
       "      <th>Afkorting in WEBCALCULATOR</th>\n",
       "      <th>unit</th>\n",
       "      <th>Minimum</th>\n",
       "      <th>Maximum</th>\n",
       "      <th>Rule in webapp</th>\n",
       "    </tr>\n",
       "  </thead>\n",
       "  <tbody>\n",
       "    <tr>\n",
       "      <th>0</th>\n",
       "      <td>barley</td>\n",
       "      <td>%</td>\n",
       "      <td>1</td>\n",
       "      <td>7.0</td>\n",
       "      <td>barley btw 0.01 and 0.07</td>\n",
       "    </tr>\n",
       "    <tr>\n",
       "      <th>1</th>\n",
       "      <td>blood</td>\n",
       "      <td>%</td>\n",
       "      <td>1</td>\n",
       "      <td>3.0</td>\n",
       "      <td>blood btw 0.01 and 0.03</td>\n",
       "    </tr>\n",
       "    <tr>\n",
       "      <th>2</th>\n",
       "      <td>boneash</td>\n",
       "      <td>%</td>\n",
       "      <td>1</td>\n",
       "      <td>3.0</td>\n",
       "      <td>boneash btw 0.01 and 0.03</td>\n",
       "    </tr>\n",
       "    <tr>\n",
       "      <th>3</th>\n",
       "      <td>mbmeal</td>\n",
       "      <td>%</td>\n",
       "      <td>1</td>\n",
       "      <td>4.0</td>\n",
       "      <td>mbmeal btw 0.01 and 0.04</td>\n",
       "    </tr>\n",
       "    <tr>\n",
       "      <th>4</th>\n",
       "      <td>cotton</td>\n",
       "      <td>%</td>\n",
       "      <td>1</td>\n",
       "      <td>4.0</td>\n",
       "      <td>cotton btw 0.01 and 0.04</td>\n",
       "    </tr>\n",
       "  </tbody>\n",
       "</table>\n",
       "</div>"
      ],
      "text/plain": [
       "  Afkorting in WEBCALCULATOR unit  Minimum  Maximum             Rule in webapp\n",
       "0                     barley    %        1      7.0   barley btw 0.01 and 0.07\n",
       "1                      blood    %        1      3.0    blood btw 0.01 and 0.03\n",
       "2                    boneash    %        1      3.0  boneash btw 0.01 and 0.03\n",
       "3                     mbmeal    %        1      4.0   mbmeal btw 0.01 and 0.04\n",
       "4                     cotton    %        1      4.0   cotton btw 0.01 and 0.04"
      ]
     },
     "execution_count": 1753,
     "metadata": {},
     "output_type": "execute_result"
    }
   ],
   "source": [
    "ingre_percentage_df.head()"
   ]
  },
  {
   "cell_type": "code",
   "execution_count": 1754,
   "metadata": {},
   "outputs": [
    {
     "name": "stdout",
     "output_type": "stream",
     "text": [
      "Solution----------------------------------------------------------------------------------------------------\n",
      "Chosen_barley = 1.0 kg\n",
      "Chosen_blood = 1.0 kg\n",
      "Chosen_copra = 1.0 kg\n",
      "Chosen_fish = 1.0 kg\n",
      "Chosen_maizebranhighq = 1.0 kg\n",
      "Chosen_maizebranlowq = 1.0 kg\n",
      "Chosen_palmoil = 1.0 kg\n",
      "Chosen_rapecake = 1.0 kg\n",
      "Chosen_rapemeal = 1.0 kg\n",
      "Chosen_rice = 1.0 kg\n",
      "Chosen_sesamecake = 1.0 kg\n",
      "Chosen_sugars = 1.0 kg\n",
      "Chosen_tapbran = 1.0 kg\n",
      "Chosen_wheat = 1.0 kg\n",
      "Chosen_wheatbran = 1.0 kg\n",
      "Portion_barley = 0.077685928 kg\n",
      "Portion_blood = 0.01109799 kg\n",
      "Portion_copra = 0.050178481 kg\n",
      "Portion_fish = 0.1109799 kg\n",
      "Portion_maizebranhighq = 0.22195979 kg\n",
      "Portion_maizebranlowq = 0.1109799 kg\n",
      "Portion_palmoil = 0.033649752 kg\n",
      "Portion_rapecake = 0.044391959 kg\n",
      "Portion_rapemeal = 0.044391959 kg\n",
      "Portion_rice = 0.061068869 kg\n",
      "Portion_sesamecake = 0.028329307 kg\n",
      "Portion_sugars = 0.01109799 kg\n",
      "Portion_tapbran = 0.079603353 kg\n",
      "Portion_wheat = 0.16889385 kg\n",
      "Portion_wheatbran = 0.055489949 kg\n",
      "The total cost of this balanced diet is: 131.3 in Nigeria Currency \n"
     ]
    }
   ],
   "source": [
    "prob3 = LpProblem(\"Smallholder Layer Starter Diet\",LpMinimize)\n",
    "prob3 += lpSum([costs[i]*food_vars[i] for i in food_items]), \"Total Cost of the balanced diet\"\n",
    "\n",
    "for i in range(len(nutrition_df)):\n",
    "    n = vars()[nutrition_df.iloc[i,0]]\n",
    "#     print(n)\n",
    "#     print('Min',i)\n",
    "    \n",
    "    prob3 += lpSum([n[f]* food_vars[f] for f in food_items]) >= nutrition_df['Minimum'][i]\n",
    "    \n",
    "    if (i in nutrition_df[nutrition_df['Maximum']>0].index):\n",
    "#         print('Max',i)\n",
    "        prob3 += lpSum([n[f]* food_vars[f] for f in food_items]) <= nutrition_df['Maximum'][i]\n",
    "#     print('------')\n",
    "\n",
    "for f in food_items:\n",
    "    prob3 += food_vars[f]>= 0\n",
    "    prob3 += food_vars[f]<= food_chosen[f]*100\n",
    "\n",
    "    \n",
    "# prob3+= lpSum([food_chosen[f] for f in food_items])<=6\n",
    "\n",
    "\n",
    "for i in range(len(ingre_percentage_df)):\n",
    "    pmin=ingre_percentage_df.iloc[i][2]/100\n",
    "    x_i=ingre_percentage_df.iloc[i][0]\n",
    "    prob3 += -100*(1-food_chosen[x_i])+pmin*lpSum([food_vars[f] for f in food_items])<=food_vars[x_i]\n",
    "    \n",
    "    if (i in ingre_percentage_df[ingre_percentage_df['Maximum']>0].index):\n",
    "#         print('Max',i)\n",
    "        pmax=ingre_percentage_df.iloc[i][3]/100\n",
    "        prob3 += pmax*lpSum([food_vars[f] for f in food_items])>=food_vars[x_i]\n",
    "                                                                          \n",
    "\n",
    "# The problem is solved using PuLP's choice of Solver\n",
    "prob3.solve(pulp.PULP_CBC_CMD())\n",
    "print(\"Solution\"+\"-\"*100)\n",
    "\n",
    "for v in prob3.variables():\n",
    "#     if v.varValue>0 and v.name[0]=='P':\n",
    "    if v.varValue>0 :\n",
    "        print(v.name, \"=\", v.varValue,'kg')\n",
    "print(\"The total cost of this balanced diet is: {} in Nigeria Currency \".format(round(value(prob3.objective),2)))\n",
    "\n",
    "Ingredients=[]\n",
    "Amount=[]\n",
    "for v in prob3.variables():\n",
    "    if v.varValue>0 and v.name[0]=='P':\n",
    "        Ingredients.append(v.name[8:])\n",
    "        Amount.append(v.varValue)\n",
    "total_cost=round(value(prob3.objective),2)\n",
    "result_df={'Ingredients':Ingredients,'Amount':Amount}\n",
    "result_df=pd.DataFrame(result_df)\n",
    "result_df['total_cost']=total_cost"
   ]
  },
  {
   "cell_type": "code",
   "execution_count": 1755,
   "metadata": {},
   "outputs": [
    {
     "data": {
      "text/html": [
       "<div>\n",
       "<style scoped>\n",
       "    .dataframe tbody tr th:only-of-type {\n",
       "        vertical-align: middle;\n",
       "    }\n",
       "\n",
       "    .dataframe tbody tr th {\n",
       "        vertical-align: top;\n",
       "    }\n",
       "\n",
       "    .dataframe thead th {\n",
       "        text-align: right;\n",
       "    }\n",
       "</style>\n",
       "<table border=\"1\" class=\"dataframe\">\n",
       "  <thead>\n",
       "    <tr style=\"text-align: right;\">\n",
       "      <th></th>\n",
       "      <th>Ingredients</th>\n",
       "      <th>Amount</th>\n",
       "      <th>total_cost</th>\n",
       "    </tr>\n",
       "  </thead>\n",
       "  <tbody>\n",
       "    <tr>\n",
       "      <th>0</th>\n",
       "      <td>barley</td>\n",
       "      <td>0.077686</td>\n",
       "      <td>131.3</td>\n",
       "    </tr>\n",
       "    <tr>\n",
       "      <th>1</th>\n",
       "      <td>blood</td>\n",
       "      <td>0.011098</td>\n",
       "      <td>131.3</td>\n",
       "    </tr>\n",
       "    <tr>\n",
       "      <th>2</th>\n",
       "      <td>copra</td>\n",
       "      <td>0.050178</td>\n",
       "      <td>131.3</td>\n",
       "    </tr>\n",
       "    <tr>\n",
       "      <th>3</th>\n",
       "      <td>fish</td>\n",
       "      <td>0.110980</td>\n",
       "      <td>131.3</td>\n",
       "    </tr>\n",
       "    <tr>\n",
       "      <th>4</th>\n",
       "      <td>maizebranhighq</td>\n",
       "      <td>0.221960</td>\n",
       "      <td>131.3</td>\n",
       "    </tr>\n",
       "    <tr>\n",
       "      <th>5</th>\n",
       "      <td>maizebranlowq</td>\n",
       "      <td>0.110980</td>\n",
       "      <td>131.3</td>\n",
       "    </tr>\n",
       "    <tr>\n",
       "      <th>6</th>\n",
       "      <td>palmoil</td>\n",
       "      <td>0.033650</td>\n",
       "      <td>131.3</td>\n",
       "    </tr>\n",
       "    <tr>\n",
       "      <th>7</th>\n",
       "      <td>rapecake</td>\n",
       "      <td>0.044392</td>\n",
       "      <td>131.3</td>\n",
       "    </tr>\n",
       "    <tr>\n",
       "      <th>8</th>\n",
       "      <td>rapemeal</td>\n",
       "      <td>0.044392</td>\n",
       "      <td>131.3</td>\n",
       "    </tr>\n",
       "    <tr>\n",
       "      <th>9</th>\n",
       "      <td>rice</td>\n",
       "      <td>0.061069</td>\n",
       "      <td>131.3</td>\n",
       "    </tr>\n",
       "    <tr>\n",
       "      <th>10</th>\n",
       "      <td>sesamecake</td>\n",
       "      <td>0.028329</td>\n",
       "      <td>131.3</td>\n",
       "    </tr>\n",
       "    <tr>\n",
       "      <th>11</th>\n",
       "      <td>sugars</td>\n",
       "      <td>0.011098</td>\n",
       "      <td>131.3</td>\n",
       "    </tr>\n",
       "    <tr>\n",
       "      <th>12</th>\n",
       "      <td>tapbran</td>\n",
       "      <td>0.079603</td>\n",
       "      <td>131.3</td>\n",
       "    </tr>\n",
       "    <tr>\n",
       "      <th>13</th>\n",
       "      <td>wheat</td>\n",
       "      <td>0.168894</td>\n",
       "      <td>131.3</td>\n",
       "    </tr>\n",
       "    <tr>\n",
       "      <th>14</th>\n",
       "      <td>wheatbran</td>\n",
       "      <td>0.055490</td>\n",
       "      <td>131.3</td>\n",
       "    </tr>\n",
       "  </tbody>\n",
       "</table>\n",
       "</div>"
      ],
      "text/plain": [
       "       Ingredients    Amount  total_cost\n",
       "0           barley  0.077686       131.3\n",
       "1            blood  0.011098       131.3\n",
       "2            copra  0.050178       131.3\n",
       "3             fish  0.110980       131.3\n",
       "4   maizebranhighq  0.221960       131.3\n",
       "5    maizebranlowq  0.110980       131.3\n",
       "6          palmoil  0.033650       131.3\n",
       "7         rapecake  0.044392       131.3\n",
       "8         rapemeal  0.044392       131.3\n",
       "9             rice  0.061069       131.3\n",
       "10      sesamecake  0.028329       131.3\n",
       "11          sugars  0.011098       131.3\n",
       "12         tapbran  0.079603       131.3\n",
       "13           wheat  0.168894       131.3\n",
       "14       wheatbran  0.055490       131.3"
      ]
     },
     "execution_count": 1755,
     "metadata": {},
     "output_type": "execute_result"
    }
   ],
   "source": [
    "result_df"
   ]
  },
  {
   "cell_type": "code",
   "execution_count": null,
   "metadata": {},
   "outputs": [],
   "source": []
  }
 ],
 "metadata": {
  "kernelspec": {
   "display_name": "Python 3",
   "language": "python",
   "name": "python3"
  },
  "language_info": {
   "codemirror_mode": {
    "name": "ipython",
    "version": 3
   },
   "file_extension": ".py",
   "mimetype": "text/x-python",
   "name": "python",
   "nbconvert_exporter": "python",
   "pygments_lexer": "ipython3",
   "version": "3.7.1"
  },
  "toc": {
   "base_numbering": 1,
   "nav_menu": {},
   "number_sections": true,
   "sideBar": true,
   "skip_h1_title": false,
   "title_cell": "Table of Contents",
   "title_sidebar": "Contents",
   "toc_cell": false,
   "toc_position": {},
   "toc_section_display": true,
   "toc_window_display": false
  }
 },
 "nbformat": 4,
 "nbformat_minor": 2
}
