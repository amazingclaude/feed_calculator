{
 "cells": [
  {
   "cell_type": "markdown",
   "metadata": {},
   "source": [
    "# Feed calculator"
   ]
  },
  {
   "cell_type": "code",
   "execution_count": 8,
   "metadata": {},
   "outputs": [],
   "source": [
    "import pandas as pd\n",
    "from pulp import *\n",
    "import numpy as np\n"
   ]
  },
  {
   "cell_type": "markdown",
   "metadata": {},
   "source": [
    "# Basic Model"
   ]
  },
  {
   "cell_type": "markdown",
   "metadata": {},
   "source": [
    "## Process the dataset"
   ]
  },
  {
   "cell_type": "code",
   "execution_count": 9,
   "metadata": {},
   "outputs": [],
   "source": [
    "df = pd.read_excel(\"nutrition.xlsx\",nrows=64)\n",
    "cost_df_raw=pd.read_excel('costs.xlsx')\n",
    "nutrition_df=pd.read_excel('quantity.xlsx')"
   ]
  },
  {
   "cell_type": "code",
   "execution_count": 10,
   "metadata": {},
   "outputs": [],
   "source": [
    "df.columns = ['ingredient' if col.startswith('INGREDIENT') else col for col in df]"
   ]
  },
  {
   "cell_type": "code",
   "execution_count": 11,
   "metadata": {},
   "outputs": [],
   "source": [
    "food_items = list(df['ingredient'])\n",
    "food_items_df=pd.DataFrame(food_items,columns=['food'])"
   ]
  },
  {
   "cell_type": "code",
   "execution_count": 12,
   "metadata": {},
   "outputs": [],
   "source": [
    "costs_df=food_items_df.merge(cost_df_raw,left_on='food',right_on='Ingredients')\n",
    "costs_df=costs_df.drop('food',axis=1)\n",
    "costs={}\n",
    "for i in range (len(costs_df)):\n",
    "    costs[costs_df['Ingredients'].iloc[i]]=costs_df['Price'].iloc[i]"
   ]
  },
  {
   "cell_type": "code",
   "execution_count": 13,
   "metadata": {},
   "outputs": [],
   "source": [
    "#Extract all the nutritions included\n",
    "nutrition=[]\n",
    "for i in range (len(nutrition_df)):\n",
    "    nutrition.append(nutrition_df.iloc[i][0])\n",
    "#Create dictionay for every single nutrition. The dictionary includes the amount contained in different ingredient.\n",
    "for i in range(len(nutrition)):\n",
    "    vars()[nutrition[i]] = dict(zip(food_items,df[nutrition[i]]))\n",
    "food_vars = LpVariable.dicts(\"Portion\",food_items,lowBound=0,cat='Continuous')"
   ]
  },
  {
   "cell_type": "markdown",
   "metadata": {},
   "source": [
    "## Add the objective function"
   ]
  },
  {
   "cell_type": "code",
   "execution_count": 14,
   "metadata": {},
   "outputs": [],
   "source": [
    "prob = LpProblem(\"Smallholder Layer Starter Diet\",LpMinimize)"
   ]
  },
  {
   "cell_type": "code",
   "execution_count": 15,
   "metadata": {},
   "outputs": [],
   "source": [
    "# The objective function is added to 'prob' first\n",
    "prob += lpSum([costs[i]*food_vars[i] for i in food_items]), \"Total Cost of the balanced diet\""
   ]
  },
  {
   "cell_type": "markdown",
   "metadata": {},
   "source": [
    "## Adding constraints"
   ]
  },
  {
   "cell_type": "code",
   "execution_count": 16,
   "metadata": {},
   "outputs": [],
   "source": [
    "for i in range(len(nutrition_df)):\n",
    "    n = vars()[nutrition_df.iloc[i,0]]\n",
    "#     print('Min',i)\n",
    "    \n",
    "    prob += lpSum([n[f]* food_vars[f] for f in food_items]) >= nutrition_df['Minimum'][i]\n",
    "    if (i in nutrition_df[nutrition_df['Maximum']>0].index):\n",
    "#         print('Max',i)\n",
    "        prob += lpSum([n[f]* food_vars[f] for f in food_items]) <= nutrition_df['Maximum'][i]\n",
    "#     print('------')"
   ]
  },
  {
   "cell_type": "code",
   "execution_count": 17,
   "metadata": {},
   "outputs": [
    {
     "data": {
      "text/plain": [
       "1"
      ]
     },
     "execution_count": 17,
     "metadata": {},
     "output_type": "execute_result"
    }
   ],
   "source": [
    "# The problem data is written to an .lp file\n",
    "prob.writeLP(\"SimpleDietProblem.lp\")\n",
    "# The problem is solved using PuLP's choice of Solver\n",
    "prob.solve(pulp.PULP_CBC_CMD())"
   ]
  },
  {
   "cell_type": "code",
   "execution_count": 18,
   "metadata": {},
   "outputs": [
    {
     "name": "stdout",
     "output_type": "stream",
     "text": [
      "Solution----------------------------------------------------------------------------------------------------\n",
      "Portion_boneash = 0.0018651074 kg\n",
      "Portion_caswhole = 0.073674343 kg\n",
      "Portion_fish = 0.070430241 kg\n",
      "Portion_maizebranhighq = 0.13354586 kg\n",
      "Portion_monocapo = 0.00083770807 kg\n",
      "Portion_rapemeal = 0.20423689 kg\n",
      "Portion_rice = 0.48865891 kg\n",
      "Portion_salt = 0.0012428947 kg\n",
      "Portion_wheat = 0.067520956 kg\n",
      "The total cost of this balanced diet is: 79.8 in Nigeria Currency \n"
     ]
    }
   ],
   "source": [
    "print(\"Solution\"+\"-\"*100)\n",
    "for v in prob.variables():\n",
    "    if v.varValue>0 and v.name[0]=='P':\n",
    "        print(v.name, \"=\", v.varValue,'kg')\n",
    "print(\"The total cost of this balanced diet is: {} in Nigeria Currency \".format(round(value(prob.objective),2)))\n",
    "\n",
    "Ingredients=[]\n",
    "Amount=[]\n",
    "for v in prob.variables():\n",
    "    if v.varValue>0 and v.name[0]=='P':\n",
    "        Ingredients.append(v.name[8:])\n",
    "        Amount.append(v.varValue)\n",
    "total_cost=round(value(prob.objective),2)\n",
    "result_df={'Ingredients':Ingredients,'Amount':Amount}\n",
    "result_df=pd.DataFrame(result_df)\n",
    "result_df['total_cost']=total_cost"
   ]
  },
  {
   "cell_type": "markdown",
   "metadata": {},
   "source": [
    "# Extension 1-1"
   ]
  },
  {
   "cell_type": "markdown",
   "metadata": {},
   "source": [
    "Question: At most MaxNum of ingredients to use. "
   ]
  },
  {
   "cell_type": "code",
   "execution_count": 19,
   "metadata": {},
   "outputs": [],
   "source": [
    "#Interface for selecting the Number of ingredients\n",
    "MaxNum=3"
   ]
  },
  {
   "cell_type": "code",
   "execution_count": 20,
   "metadata": {},
   "outputs": [
    {
     "name": "stdout",
     "output_type": "stream",
     "text": [
      "Solution----------------------------------------------------------------------------------------------------\n",
      "Portion_fish = 0.13110074 kg\n",
      "Portion_wheat = 0.53863388 kg\n",
      "Portion_wheatbran = 0.42978379 kg\n",
      "The total cost of this balanced diet is: 122.11 in Nigeria Currency \n"
     ]
    }
   ],
   "source": [
    "\n",
    "prob2 = LpProblem(\"Smallholder Layer Starter Diet\",LpMinimize)\n",
    "\n",
    "food_chosen = LpVariable.dicts(\"Chosen\",food_items,0,1,cat='Integer')\n",
    "\n",
    "# The objective function is added to 'prob' first\n",
    "prob2 += lpSum([costs[i]*food_vars[i] for i in food_items]), \"Total Cost of the balanced diet\"\n",
    "\n",
    "for i in range(len(nutrition_df)):\n",
    "    n = vars()[nutrition_df.iloc[i,0]]\n",
    "#     print(n)\n",
    "#     print('Min',i)\n",
    "\n",
    "    prob2 += lpSum([n[f]* food_vars[f] for f in food_items]) >= nutrition_df['Minimum'][i]\n",
    "    if (i in nutrition_df[nutrition_df['Maximum']>0].index):\n",
    "#         print('Max',i)\n",
    "        prob2 += lpSum([n[f]* food_vars[f] for f in food_items]) <= nutrition_df['Maximum'][i]\n",
    "#     print('------')\n",
    "\n",
    "for f in food_items:\n",
    "#     prob2 += food_vars[f]>= food_chosen[f]*0.1\n",
    "    prob2 += food_vars[f]>= 0\n",
    "\n",
    "    prob2 += food_vars[f]<= food_chosen[f]*1e5\n",
    "prob2+= lpSum([food_chosen[f] for f in food_items])<=MaxNum\n",
    "# The problem is solved using PuLP's choice of Solver\n",
    "prob2.solve(pulp.PULP_CBC_CMD())\n",
    "\n",
    "    \n",
    "print(\"Solution\"+\"-\"*100)\n",
    "for v in prob2.variables():\n",
    "    if v.varValue>0 and v.name[0]=='P':\n",
    "        print(v.name, \"=\", v.varValue,'kg')\n",
    "print(\"The total cost of this balanced diet is: {} in Nigeria Currency \".format(round(value(prob2.objective),2)))\n",
    "\n",
    "Ingredients=[]\n",
    "Amount=[]\n",
    "for v in prob2.variables():\n",
    "    if v.varValue>0 and v.name[0]=='P':\n",
    "        Ingredients.append(v.name[8:])\n",
    "        Amount.append(v.varValue)\n",
    "total_cost=round(value(prob2.objective),2)\n",
    "result_df_extension1_1={'Ingredients':Ingredients,'Amount':Amount}\n",
    "result_df_extension1_1=pd.DataFrame(result_df_extension1_1)\n",
    "result_df_extension1_1['total_cost']=total_cost"
   ]
  },
  {
   "cell_type": "markdown",
   "metadata": {},
   "source": [
    "# Extension 1-0"
   ]
  },
  {
   "cell_type": "markdown",
   "metadata": {},
   "source": [
    "For every ingredient, at lease A certain minimum percentage must be reached. At the same time, it should not exceed the maximum percentage. "
   ]
  },
  {
   "cell_type": "code",
   "execution_count": 21,
   "metadata": {},
   "outputs": [],
   "source": [
    "#Interface ===Ashiwanti"
   ]
  },
  {
   "cell_type": "code",
   "execution_count": 22,
   "metadata": {},
   "outputs": [],
   "source": [
    "ingre_percentage_df=pd.read_excel('ingredients_percentage.xlsx')"
   ]
  },
  {
   "cell_type": "code",
   "execution_count": 23,
   "metadata": {},
   "outputs": [
    {
     "data": {
      "text/html": [
       "<div>\n",
       "<style scoped>\n",
       "    .dataframe tbody tr th:only-of-type {\n",
       "        vertical-align: middle;\n",
       "    }\n",
       "\n",
       "    .dataframe tbody tr th {\n",
       "        vertical-align: top;\n",
       "    }\n",
       "\n",
       "    .dataframe thead th {\n",
       "        text-align: right;\n",
       "    }\n",
       "</style>\n",
       "<table border=\"1\" class=\"dataframe\">\n",
       "  <thead>\n",
       "    <tr style=\"text-align: right;\">\n",
       "      <th></th>\n",
       "      <th>Afkorting in WEBCALCULATOR</th>\n",
       "      <th>unit</th>\n",
       "      <th>Minimum</th>\n",
       "      <th>Maximum</th>\n",
       "      <th>Rule in webapp</th>\n",
       "    </tr>\n",
       "  </thead>\n",
       "  <tbody>\n",
       "    <tr>\n",
       "      <th>0</th>\n",
       "      <td>barley</td>\n",
       "      <td>%</td>\n",
       "      <td>1</td>\n",
       "      <td>7.0</td>\n",
       "      <td>barley btw 0.01 and 0.07</td>\n",
       "    </tr>\n",
       "    <tr>\n",
       "      <th>1</th>\n",
       "      <td>blood</td>\n",
       "      <td>%</td>\n",
       "      <td>1</td>\n",
       "      <td>3.0</td>\n",
       "      <td>blood btw 0.01 and 0.03</td>\n",
       "    </tr>\n",
       "    <tr>\n",
       "      <th>2</th>\n",
       "      <td>boneash</td>\n",
       "      <td>%</td>\n",
       "      <td>1</td>\n",
       "      <td>3.0</td>\n",
       "      <td>boneash btw 0.01 and 0.03</td>\n",
       "    </tr>\n",
       "    <tr>\n",
       "      <th>3</th>\n",
       "      <td>mbmeal</td>\n",
       "      <td>%</td>\n",
       "      <td>1</td>\n",
       "      <td>4.0</td>\n",
       "      <td>mbmeal btw 0.01 and 0.04</td>\n",
       "    </tr>\n",
       "    <tr>\n",
       "      <th>4</th>\n",
       "      <td>cotton</td>\n",
       "      <td>%</td>\n",
       "      <td>1</td>\n",
       "      <td>4.0</td>\n",
       "      <td>cotton btw 0.01 and 0.04</td>\n",
       "    </tr>\n",
       "  </tbody>\n",
       "</table>\n",
       "</div>"
      ],
      "text/plain": [
       "  Afkorting in WEBCALCULATOR unit  Minimum  Maximum             Rule in webapp\n",
       "0                     barley    %        1      7.0   barley btw 0.01 and 0.07\n",
       "1                      blood    %        1      3.0    blood btw 0.01 and 0.03\n",
       "2                    boneash    %        1      3.0  boneash btw 0.01 and 0.03\n",
       "3                     mbmeal    %        1      4.0   mbmeal btw 0.01 and 0.04\n",
       "4                     cotton    %        1      4.0   cotton btw 0.01 and 0.04"
      ]
     },
     "execution_count": 23,
     "metadata": {},
     "output_type": "execute_result"
    }
   ],
   "source": [
    "ingre_percentage_df.head()"
   ]
  },
  {
   "cell_type": "code",
   "execution_count": 24,
   "metadata": {},
   "outputs": [
    {
     "name": "stdout",
     "output_type": "stream",
     "text": [
      "Solution----------------------------------------------------------------------------------------------------\n",
      "Portion_barley = 0.077685928 kg\n",
      "Portion_blood = 0.01109799 kg\n",
      "Portion_copra = 0.050178481 kg\n",
      "Portion_fish = 0.1109799 kg\n",
      "Portion_maizebranhighq = 0.22195979 kg\n",
      "Portion_maizebranlowq = 0.1109799 kg\n",
      "Portion_palmoil = 0.033649752 kg\n",
      "Portion_rapecake = 0.044391959 kg\n",
      "Portion_rapemeal = 0.044391959 kg\n",
      "Portion_rice = 0.061068869 kg\n",
      "Portion_sesamecake = 0.028329307 kg\n",
      "Portion_sugars = 0.01109799 kg\n",
      "Portion_tapbran = 0.079603353 kg\n",
      "Portion_wheat = 0.16889385 kg\n",
      "Portion_wheatbran = 0.055489949 kg\n",
      "The total cost of this balanced diet is: 131.3 in Nigeria Currency \n"
     ]
    }
   ],
   "source": [
    "prob3 = LpProblem(\"Smallholder Layer Starter Diet\",LpMinimize)\n",
    "prob3 += lpSum([costs[i]*food_vars[i] for i in food_items]), \"Total Cost of the balanced diet\"\n",
    "\n",
    "for i in range(len(nutrition_df)):\n",
    "    n = vars()[nutrition_df.iloc[i,0]]\n",
    "#     print(n)\n",
    "#     print('Min',i)\n",
    "    \n",
    "    prob3 += lpSum([n[f]* food_vars[f] for f in food_items]) >= nutrition_df['Minimum'][i]\n",
    "    \n",
    "    if (i in nutrition_df[nutrition_df['Maximum']>0].index):\n",
    "#         print('Max',i)\n",
    "        prob3 += lpSum([n[f]* food_vars[f] for f in food_items]) <= nutrition_df['Maximum'][i]\n",
    "#     print('------')\n",
    "\n",
    "for f in food_items:\n",
    "    prob3 += food_vars[f]>= 0\n",
    "    prob3 += food_vars[f]<= food_chosen[f]*100\n",
    "\n",
    "    \n",
    "# prob3+= lpSum([food_chosen[f] for f in food_items])<=6\n",
    "\n",
    "\n",
    "for i in range(len(ingre_percentage_df)):\n",
    "    pmin=ingre_percentage_df.iloc[i][2]/100\n",
    "    x_i=ingre_percentage_df.iloc[i][0]\n",
    "    prob3 += -100*(1-food_chosen[x_i])+pmin*lpSum([food_vars[f] for f in food_items])<=food_vars[x_i]\n",
    "    \n",
    "    if (i in ingre_percentage_df[ingre_percentage_df['Maximum']>0].index):\n",
    "#         print('Max',i)\n",
    "        pmax=ingre_percentage_df.iloc[i][3]/100\n",
    "        prob3 += pmax*lpSum([food_vars[f] for f in food_items])>=food_vars[x_i]\n",
    "                                                                          \n",
    "\n",
    "# The problem is solved using PuLP's choice of Solver\n",
    "prob3.solve(pulp.PULP_CBC_CMD())\n",
    "print(\"Solution\"+\"-\"*100)\n",
    "\n",
    "for v in prob3.variables():\n",
    "    if v.varValue>0 and v.name[0]=='P':\n",
    "#     if v.varValue>0 :\n",
    "        print(v.name, \"=\", v.varValue,'kg')\n",
    "print(\"The total cost of this balanced diet is: {} in Nigeria Currency \".format(round(value(prob3.objective),2)))\n",
    "\n",
    "Ingredients=[]\n",
    "Amount=[]\n",
    "for v in prob3.variables():\n",
    "    if v.varValue>0 and v.name[0]=='P':\n",
    "        Ingredients.append(v.name[8:])\n",
    "        Amount.append(v.varValue)\n",
    "total_cost=round(value(prob3.objective),2)\n",
    "result_df_extention1_0={'Ingredients':Ingredients,'Amount':Amount}\n",
    "result_df_extention1_0=pd.DataFrame(result_df_extention1_0)\n",
    "result_df_extention1_0['total_cost']=total_cost"
   ]
  },
  {
   "cell_type": "code",
   "execution_count": null,
   "metadata": {},
   "outputs": [],
   "source": []
  }
 ],
 "metadata": {
  "kernelspec": {
   "display_name": "Python 3",
   "language": "python",
   "name": "python3"
  },
  "language_info": {
   "codemirror_mode": {
    "name": "ipython",
    "version": 3
   },
   "file_extension": ".py",
   "mimetype": "text/x-python",
   "name": "python",
   "nbconvert_exporter": "python",
   "pygments_lexer": "ipython3",
   "version": "3.7.1"
  },
  "toc": {
   "base_numbering": 1,
   "nav_menu": {},
   "number_sections": true,
   "sideBar": true,
   "skip_h1_title": false,
   "title_cell": "Table of Contents",
   "title_sidebar": "Contents",
   "toc_cell": false,
   "toc_position": {},
   "toc_section_display": true,
   "toc_window_display": false
  }
 },
 "nbformat": 4,
 "nbformat_minor": 2
}
